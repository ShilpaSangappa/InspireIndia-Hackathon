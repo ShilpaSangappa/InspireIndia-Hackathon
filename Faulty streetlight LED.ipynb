{
 "cells": [
  {
   "cell_type": "code",
   "execution_count": 1,
   "metadata": {},
   "outputs": [],
   "source": [
    "import pandas as pd\n",
    "import numpy as np\n",
    "from IPython.display import display\n",
    "import matplotlib.pyplot as plt\n",
    "%matplotlib inline  \n",
    "\n",
    "pd.options.display.max_columns = None\n",
    "ccms_data = pd.read_excel('/home/sindhuvarun/EELS hackathon/CCMS/Dummy data/Dummy data/DailyProfileData (7).xlsx')"
   ]
  },
  {
   "cell_type": "markdown",
   "metadata": {},
   "source": [
    "## Approach 1\n",
    "Calculate the average energy consumption/day of a CCMS unit using 'Cum kVAh' field of dataset.\n",
    "Check if the per day consumption is less than the (average consumption + buffer) buffer used here is 10. If\n",
    "it is less, then there is faulty LED."
   ]
  },
  {
   "cell_type": "code",
   "execution_count": 9,
   "metadata": {},
   "outputs": [
    {
     "name": "stdout",
     "output_type": "stream",
     "text": [
      "51.57060000000001\n",
      "5.660078198558124\n"
     ]
    },
    {
     "data": {
      "text/plain": [
       "1.7190200000000004"
      ]
     },
     "execution_count": 9,
     "metadata": {},
     "output_type": "execute_result"
    }
   ],
   "source": [
    "ccms_kVAh = abs(ccms_data['Cum kVAh'].diff()[1:])\n",
    "mean_kVAh = ccms_kVAh.mean()\n",
    "std_kVAh = ccms_kVAh.std()\n",
    "print(\"mean kVAh/day:\", mean_kVAh)\n",
    "print(\"std kVAh/day:\", std_kVAh)"
   ]
  },
  {
   "cell_type": "code",
   "execution_count": 25,
   "metadata": {},
   "outputs": [
    {
     "data": {
      "text/plain": [
       "<matplotlib.axes._subplots.AxesSubplot at 0xa97186ac>"
      ]
     },
     "execution_count": 25,
     "metadata": {},
     "output_type": "execute_result"
    },
    {
     "data": {
      "image/png": "[encoded data removed]",
      "text/plain": [
       "<Figure size 432x288 with 1 Axes>"
      ]
     },
     "metadata": {},
     "output_type": "display_data"
    }
   ],
   "source": [
    "#ccms_kVAh.sort_values\n",
    "#ccms_kVAh\n",
    "ccms_kVAh.plot.hist(grid=True, bins=4, color='#607c8e')"
   ]
  },
  {
   "cell_type": "code",
   "execution_count": 5,
   "metadata": {},
   "outputs": [
    {
     "data": {
      "text/plain": [
       "1     False\n",
       "2     False\n",
       "3     False\n",
       "4     False\n",
       "5     False\n",
       "6     False\n",
       "7     False\n",
       "8     False\n",
       "9     False\n",
       "10    False\n",
       "11    False\n",
       "12    False\n",
       "13    False\n",
       "14     True\n",
       "15    False\n",
       "16    False\n",
       "17    False\n",
       "18    False\n",
       "19    False\n",
       "20    False\n",
       "21    False\n",
       "22    False\n",
       "23    False\n",
       "24    False\n",
       "25    False\n",
       "26    False\n",
       "27    False\n",
       "28    False\n",
       "29    False\n",
       "30    False\n",
       "Name: Cum kVAh, dtype: bool"
      ]
     },
     "execution_count": 5,
     "metadata": {},
     "output_type": "execute_result"
    }
   ],
   "source": [
    "ccms_data_test = pd.read_excel('/home/sindhuvarun/EELS hackathon/CCMS/Dummy data/Dummy data/DailyProfileData (7)-Test.xlsx')\n",
    "abs(ccms_data_test['Cum kVAh'].diff()[1:]) < (mean_kVAh - 2*std_kVAh)"
   ]
  },
  {
   "cell_type": "code",
   "execution_count": null,
   "metadata": {},
   "outputs": [],
   "source": [
    "no_of_streetlights = 30\n",
    "\n",
    "#consumption_per_streetlight per day\n",
    "consumption_per_streetlight = mean_kVAh/no_of_streetlights\n"
   ]
  },
  {
   "cell_type": "markdown",
   "metadata": {},
   "source": [
    "### We can use this consumption_per_streetlight and predict the number of faulty streetlights"
   ]
  },
  {
   "cell_type": "markdown",
   "metadata": {},
   "source": [
    "## Approach 2\n",
    "Compute VAR component using diff of 'Cum kwh' and 'Cum kVAh'.\n",
    "Calculate the mean and std of this diff.\n",
    "The difference between the two should not be more than mean + 2(std)\n",
    "\n",
    "This way we are able to pin-point that VAR component is going higher than the non-VAR component"
   ]
  },
  {
   "cell_type": "code",
   "execution_count": 27,
   "metadata": {},
   "outputs": [
    {
     "name": "stdout",
     "output_type": "stream",
     "text": [
      "37.923354838709585\n",
      "2.9388433614647664\n"
     ]
    }
   ],
   "source": [
    "ccms_VAR = abs((ccms_data['Cum kwh'] - ccms_data['Cum kVAh']))\n",
    "mean_VAR = ccms_VAR.mean()\n",
    "std_VAR = ccms_VAR.std()\n",
    "print(mean_VAR)\n",
    "print(std_VAR)"
   ]
  },
  {
   "cell_type": "code",
   "execution_count": 28,
   "metadata": {},
   "outputs": [
    {
     "data": {
      "text/plain": [
       "0      True\n",
       "1     False\n",
       "2     False\n",
       "3     False\n",
       "4     False\n",
       "5     False\n",
       "6     False\n",
       "7     False\n",
       "8     False\n",
       "9     False\n",
       "10    False\n",
       "11    False\n",
       "12    False\n",
       "13    False\n",
       "14    False\n",
       "15    False\n",
       "16    False\n",
       "17    False\n",
       "18    False\n",
       "19    False\n",
       "20    False\n",
       "21    False\n",
       "22    False\n",
       "23    False\n",
       "24    False\n",
       "25    False\n",
       "26    False\n",
       "27    False\n",
       "28    False\n",
       "29    False\n",
       "30    False\n",
       "dtype: bool"
      ]
     },
     "execution_count": 28,
     "metadata": {},
     "output_type": "execute_result"
    }
   ],
   "source": [
    "ccms_data_test2 = pd.read_excel('/home/sindhuvarun/EELS hackathon/CCMS/Dummy data/Dummy data/DailyProfileData (7)-Test2.xlsx')\n",
    "abs((ccms_data_test2['Cum kwh'] - ccms_data_test2['Cum kVAh'])) > (mean_VAR + 2*std_VAR)"
   ]
  },
  {
   "cell_type": "code",
   "execution_count": null,
   "metadata": {},
   "outputs": [],
   "source": []
  }
 ],
 "metadata": {
  "kernelspec": {
   "display_name": "Python 3",
   "language": "python",
   "name": "python3"
  },
  "language_info": {
   "codemirror_mode": {
    "name": "ipython",
    "version": 3
   },
   "file_extension": ".py",
   "mimetype": "text/x-python",
   "name": "python",
   "nbconvert_exporter": "python",
   "pygments_lexer": "ipython3",
   "version": "3.6.5"
  }
 },
 "nbformat": 4,
 "nbformat_minor": 2
}
